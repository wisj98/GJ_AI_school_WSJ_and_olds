{
 "cells": [
  {
   "cell_type": "code",
   "execution_count": 1,
   "metadata": {},
   "outputs": [],
   "source": [
    "import pandas as pd\n",
    "import os as os \n",
    "import matplotlib.pyplot as plt"
   ]
  },
  {
   "cell_type": "code",
   "execution_count": 5,
   "metadata": {},
   "outputs": [
    {
     "name": "stdout",
     "output_type": "stream",
     "text": [
      "<class 'pandas.core.frame.DataFrame'>\n",
      "RangeIndex: 620 entries, 0 to 619\n",
      "Data columns (total 8 columns):\n",
      " #   Column  Non-Null Count  Dtype  \n",
      "---  ------  --------------  -----  \n",
      " 0   file    620 non-null    object \n",
      " 1   ssi     617 non-null    float64\n",
      " 2   hash    617 non-null    float64\n",
      " 3   cor     617 non-null    float64\n",
      " 4   chi     617 non-null    float64\n",
      " 5   inter   617 non-null    float64\n",
      " 6   bha     617 non-null    float64\n",
      " 7   TF      617 non-null    float64\n",
      "dtypes: float64(7), object(1)\n",
      "memory usage: 38.9+ KB\n",
      "None\n",
      "<class 'pandas.core.frame.DataFrame'>\n",
      "Index: 617 entries, 0 to 619\n",
      "Data columns (total 8 columns):\n",
      " #   Column  Non-Null Count  Dtype  \n",
      "---  ------  --------------  -----  \n",
      " 0   file    617 non-null    object \n",
      " 1   ssi     617 non-null    float64\n",
      " 2   hash    617 non-null    float64\n",
      " 3   cor     617 non-null    float64\n",
      " 4   chi     617 non-null    float64\n",
      " 5   inter   617 non-null    float64\n",
      " 6   bha     617 non-null    float64\n",
      " 7   TF      617 non-null    float64\n",
      "dtypes: float64(7), object(1)\n",
      "memory usage: 43.4+ KB\n",
      "None\n",
      "TF\n",
      "0.0    438\n",
      "1.0    179\n",
      "Name: count, dtype: int64\n"
     ]
    }
   ],
   "source": [
    "dir = os.getcwd() + \"\\\\images_csv\"\n",
    "ori_df = pd.read_csv(f\"{dir}\\\\{input()}.csv\")\n",
    "print(ori_df.info())\n",
    "ori_df = ori_df.dropna()\n",
    "print(ori_df.info())\n",
    "df = ori_df[:]\n",
    "\n",
    "print(df['TF'].value_counts())"
   ]
  },
  {
   "cell_type": "code",
   "execution_count": 6,
   "metadata": {},
   "outputs": [
    {
     "name": "stdout",
     "output_type": "stream",
     "text": [
      "ssi\n",
      "6     119\n",
      "5     106\n",
      "4      96\n",
      "3      90\n",
      "2      85\n",
      "7      64\n",
      "1      38\n",
      "8       7\n",
      "0       6\n",
      "9       4\n",
      "10      2\n",
      "Name: count, dtype: int64\n",
      "    ssi        TF\n",
      "0     0  0.000000\n",
      "1     1  0.000000\n",
      "2     2  0.000000\n",
      "3     3  0.000000\n",
      "4     4  0.093750\n",
      "5     5  0.292453\n",
      "6     6  0.638655\n",
      "7     7  0.796875\n",
      "8     8  0.857143\n",
      "9     9  1.000000\n",
      "10   10  1.000000\n"
     ]
    },
    {
     "data": {
      "image/png": "[encoded data removed]",
      "text/plain": [
       "<Figure size 800x500 with 1 Axes>"
      ]
     },
     "metadata": {},
     "output_type": "display_data"
    }
   ],
   "source": [
    "column = \"ssi\"\n",
    "df[column] = ori_df[column].apply(lambda x: (round(x * 100) // 10))\n",
    "\n",
    "print(df[column].value_counts())\n",
    "df_modi = df.groupby(column)[\"TF\"].mean()\n",
    "\n",
    "df_modi = df_modi.reset_index()\n",
    "print(df_modi)\n",
    "\n",
    "plt.figure(figsize=(8, 5))\n",
    "plt.bar(df_modi[column], df_modi['TF'], color='skyblue')\n",
    "\n",
    "plt.show()"
   ]
  },
  {
   "cell_type": "code",
   "execution_count": 7,
   "metadata": {},
   "outputs": [
    {
     "name": "stdout",
     "output_type": "stream",
     "text": [
      "hash\n",
      "15    113\n",
      "16     99\n",
      "14     88\n",
      "17     58\n",
      "13     52\n",
      "12     51\n",
      "18     43\n",
      "11     28\n",
      "19     24\n",
      "10     23\n",
      "8      10\n",
      "20      8\n",
      "9       7\n",
      "0       5\n",
      "7       4\n",
      "6       2\n",
      "21      2\n",
      "Name: count, dtype: int64\n",
      "    hash        TF\n",
      "0      0  1.000000\n",
      "1      6  1.000000\n",
      "2      7  1.000000\n",
      "3      8  1.000000\n",
      "4      9  0.714286\n",
      "5     10  0.695652\n",
      "6     11  0.464286\n",
      "7     12  0.666667\n",
      "8     13  0.211538\n",
      "9     14  0.386364\n",
      "10    15  0.185841\n",
      "11    16  0.080808\n",
      "12    17  0.137931\n",
      "13    18  0.139535\n",
      "14    19  0.083333\n",
      "15    20  0.000000\n",
      "16    21  0.000000\n"
     ]
    },
    {
     "data": {
      "image/png": "[encoded data removed]",
      "text/plain": [
       "<Figure size 800x500 with 1 Axes>"
      ]
     },
     "metadata": {},
     "output_type": "display_data"
    }
   ],
   "source": [
    "column = \"hash\"\n",
    "df[column] = ori_df[column].apply(lambda x: round(x/2))\n",
    "\n",
    "print(df[column].value_counts())\n",
    "df_modi = df.groupby(column)[\"TF\"].mean()\n",
    "\n",
    "df_modi = df_modi.reset_index()\n",
    "print(df_modi)\n",
    "\n",
    "plt.figure(figsize=(8, 5))\n",
    "plt.bar(df_modi[column], df_modi['TF'], color='skyblue')\n",
    "\n",
    "plt.show()"
   ]
  },
  {
   "cell_type": "code",
   "execution_count": 9,
   "metadata": {},
   "outputs": [
    {
     "name": "stdout",
     "output_type": "stream",
     "text": [
      "cor\n",
      "10    227\n",
      "0     185\n",
      "1      54\n",
      "9      39\n",
      "2      23\n",
      "3      19\n",
      "4      19\n",
      "7      17\n",
      "6      12\n",
      "5      12\n",
      "8      10\n",
      "Name: count, dtype: int64\n",
      "    cor        TF\n",
      "0     0  0.005405\n",
      "1     1  0.000000\n",
      "2     2  0.000000\n",
      "3     3  0.000000\n",
      "4     4  0.000000\n",
      "5     5  0.000000\n",
      "6     6  0.000000\n",
      "7     7  0.058824\n",
      "8     8  0.000000\n",
      "9     9  0.153846\n",
      "10   10  0.753304\n"
     ]
    },
    {
     "data": {
      "image/png": "[encoded data removed]",
      "text/plain": [
       "<Figure size 800x500 with 1 Axes>"
      ]
     },
     "metadata": {},
     "output_type": "display_data"
    }
   ],
   "source": [
    "column = \"cor\"\n",
    "df[column] = ori_df[column].apply(lambda x: (round(x * 100) // 10))\n",
    "\n",
    "print(df[column].value_counts())\n",
    "df_modi = df.groupby(column)[\"TF\"].mean()\n",
    "\n",
    "df_modi = df_modi.reset_index()\n",
    "print(df_modi)\n",
    "\n",
    "plt.figure(figsize=(8, 5))\n",
    "plt.bar(df_modi[column], df_modi['TF'], color='skyblue')\n",
    "\n",
    "plt.show()\n",
    "\n",
    "#부정확하다고 보임 -> 컬럼 삭제"
   ]
  },
  {
   "cell_type": "code",
   "execution_count": 10,
   "metadata": {},
   "outputs": [
    {
     "name": "stdout",
     "output_type": "stream",
     "text": [
      "chi\n",
      "0.017117         9\n",
      "255281.988500    3\n",
      "2.526138         3\n",
      "9.950595         3\n",
      "3.669773         3\n",
      "                ..\n",
      "2.303457         1\n",
      "317326.295100    1\n",
      "94140.169510     1\n",
      "69522.650910     1\n",
      "152618.403100    1\n",
      "Name: count, Length: 455, dtype: int64\n",
      "              chi        TF\n",
      "0    0.000000e+00  1.000000\n",
      "1    1.711674e-02  0.444444\n",
      "2    1.891041e-02  0.000000\n",
      "3    2.885516e-02  0.000000\n",
      "4    2.902754e-02  1.000000\n",
      "..            ...       ...\n",
      "450  2.587294e+06  0.000000\n",
      "451  2.989065e+06  0.000000\n",
      "452  3.858309e+06  0.000000\n",
      "453  4.066515e+06  0.000000\n",
      "454  5.770496e+06  0.000000\n",
      "\n",
      "[455 rows x 2 columns]\n"
     ]
    },
    {
     "data": {
      "image/png": "[encoded data removed]",
      "text/plain": [
       "<Figure size 800x500 with 1 Axes>"
      ]
     },
     "metadata": {},
     "output_type": "display_data"
    }
   ],
   "source": [
    "column = \"chi\"\n",
    "df[column] = ori_df[column].apply(lambda x: x)\n",
    "\n",
    "print(df[column].value_counts())\n",
    "df_modi = df.groupby(column)[\"TF\"].mean()\n",
    "\n",
    "df_modi = df_modi.reset_index()\n",
    "print(df_modi)\n",
    "\n",
    "plt.figure(figsize=(8, 5))\n",
    "plt.bar(df_modi[column], df_modi['TF'], color='skyblue')\n",
    "\n",
    "plt.show()"
   ]
  },
  {
   "cell_type": "code",
   "execution_count": 11,
   "metadata": {},
   "outputs": [
    {
     "name": "stdout",
     "output_type": "stream",
     "text": [
      "inter\n",
      "10    330\n",
      "0     123\n",
      "1      47\n",
      "2      34\n",
      "3      22\n",
      "4      17\n",
      "6      16\n",
      "5      12\n",
      "8       6\n",
      "9       5\n",
      "7       5\n",
      "Name: count, dtype: int64\n",
      "    inter        TF\n",
      "0       0  0.008130\n",
      "1       1  0.000000\n",
      "2       2  0.000000\n",
      "3       3  0.000000\n",
      "4       4  0.000000\n",
      "5       5  0.000000\n",
      "6       6  0.000000\n",
      "7       7  0.000000\n",
      "8       8  0.000000\n",
      "9       9  0.000000\n",
      "10     10  0.539394\n"
     ]
    },
    {
     "data": {
      "image/png": "[encoded data removed]",
      "text/plain": [
       "<Figure size 800x500 with 1 Axes>"
      ]
     },
     "metadata": {},
     "output_type": "display_data"
    }
   ],
   "source": [
    "column = \"inter\"\n",
    "df[column] = ori_df[column].apply(lambda x: (round(x * 100) // 10))\n",
    "\n",
    "print(df[column].value_counts())\n",
    "df_modi = df.groupby(column)[\"TF\"].mean()\n",
    "\n",
    "df_modi = df_modi.reset_index()\n",
    "print(df_modi)\n",
    "\n",
    "plt.figure(figsize=(8, 5))\n",
    "plt.bar(df_modi[column], df_modi['TF'], color='skyblue')\n",
    "\n",
    "plt.show()"
   ]
  },
  {
   "cell_type": "code",
   "execution_count": 12,
   "metadata": {},
   "outputs": [
    {
     "name": "stdout",
     "output_type": "stream",
     "text": [
      "bha\n",
      "9     260\n",
      "8      75\n",
      "2      70\n",
      "3      61\n",
      "1      51\n",
      "4      26\n",
      "0      21\n",
      "5      20\n",
      "6      18\n",
      "7      13\n",
      "10      2\n",
      "Name: count, dtype: int64\n",
      "    bha        TF\n",
      "0     0  0.714286\n",
      "1     1  0.764706\n",
      "2     2  0.814286\n",
      "3     3  0.819672\n",
      "4     4  0.423077\n",
      "5     5  0.150000\n",
      "6     6  0.166667\n",
      "7     7  0.000000\n",
      "8     8  0.000000\n",
      "9     9  0.003846\n",
      "10   10  0.000000\n"
     ]
    },
    {
     "data": {
      "image/png": "[encoded data removed]",
      "text/plain": [
       "<Figure size 800x500 with 1 Axes>"
      ]
     },
     "metadata": {},
     "output_type": "display_data"
    }
   ],
   "source": [
    "column = \"bha\"\n",
    "df[column] = ori_df[column].apply(lambda x: (round(x * 100) // 10))\n",
    "\n",
    "print(df[column].value_counts())\n",
    "df_modi = df.groupby(column)[\"TF\"].mean()\n",
    "\n",
    "df_modi = df_modi.reset_index()\n",
    "print(df_modi)\n",
    "\n",
    "plt.figure(figsize=(8, 5))\n",
    "plt.bar(df_modi[column], df_modi['TF'], color='skyblue')\n",
    "\n",
    "plt.show()"
   ]
  },
  {
   "cell_type": "code",
   "execution_count": 49,
   "metadata": {},
   "outputs": [],
   "source": [
    "df_modi = df[:]\n",
    "df_modi = df_modi.drop([\"cor\", \"file\"], axis = 1)"
   ]
  },
  {
   "cell_type": "code",
   "execution_count": 50,
   "metadata": {},
   "outputs": [],
   "source": [
    "from sklearn.preprocessing import StandardScaler\n",
    "from sklearn.model_selection import train_test_split"
   ]
  },
  {
   "cell_type": "code",
   "execution_count": 51,
   "metadata": {},
   "outputs": [],
   "source": [
    "y = df_modi[\"TF\"]\n",
    "X = df_modi.drop(\"TF\", axis = 1)\n",
    "scaler = StandardScaler()\n",
    "scaler.fit(X)\n",
    "X = scaler.transform(X)\n",
    "X = pd.DataFrame(data=X, columns = [\"ssi\", \"hash\", \"chi\", \"inter\", \"bha\"])"
   ]
  },
  {
   "cell_type": "code",
   "execution_count": 52,
   "metadata": {},
   "outputs": [],
   "source": [
    "X_train, X_test, y_train, y_test = train_test_split(X, y, test_size= 0.2, random_state= 123)"
   ]
  },
  {
   "cell_type": "code",
   "execution_count": 57,
   "metadata": {},
   "outputs": [
    {
     "name": "stdout",
     "output_type": "stream",
     "text": [
      "0.8870967741935484\n",
      "{1: {'precision': 0.9318181818181818, 'recall': 0.9111111111111111, 'f1-score': 0.9213483146067416, 'support': 90.0}, 0: {'precision': 0.7777777777777778, 'recall': 0.8235294117647058, 'f1-score': 0.8, 'support': 34.0}, 'accuracy': 0.8870967741935484, 'macro avg': {'precision': 0.8547979797979798, 'recall': 0.8673202614379085, 'f1-score': 0.8606741573033708, 'support': 124.0}, 'weighted avg': {'precision': 0.8895812968393613, 'recall': 0.8870967741935484, 'f1-score': 0.8880753896339254, 'support': 124.0}} \n",
      "\n",
      "0.8790322580645161\n",
      "{1: {'precision': 0.9518072289156626, 'recall': 0.8777777777777778, 'f1-score': 0.9132947976878613, 'support': 90.0}, 0: {'precision': 0.7317073170731707, 'recall': 0.8823529411764706, 'f1-score': 0.8, 'support': 34.0}, 'accuracy': 0.8790322580645161, 'macro avg': {'precision': 0.8417572729944167, 'recall': 0.8800653594771242, 'f1-score': 0.8566473988439307, 'support': 124.0}, 'weighted avg': {'precision': 0.8914572530878826, 'recall': 0.8790322580645161, 'f1-score': 0.8822300950960283, 'support': 124.0}} \n",
      "\n",
      "0.8467741935483871\n",
      "{1: {'precision': 0.9733333333333334, 'recall': 0.8111111111111111, 'f1-score': 0.8848484848484849, 'support': 90.0}, 0: {'precision': 0.6530612244897959, 'recall': 0.9411764705882353, 'f1-score': 0.7710843373493976, 'support': 34.0}, 'accuracy': 0.8467741935483871, 'macro avg': {'precision': 0.8131972789115647, 'recall': 0.8761437908496732, 'f1-score': 0.8279664110989413, 'support': 124.0}, 'weighted avg': {'precision': 0.8855167873601054, 'recall': 0.8467741935483871, 'f1-score': 0.8536550895664771, 'support': 124.0}} \n",
      "\n",
      "0.8629032258064516\n",
      "{1: {'precision': 0.9397590361445783, 'recall': 0.8666666666666667, 'f1-score': 0.9017341040462428, 'support': 90.0}, 0: {'precision': 0.7073170731707317, 'recall': 0.8529411764705882, 'f1-score': 0.7733333333333333, 'support': 34.0}, 'accuracy': 0.8629032258064516, 'macro avg': {'precision': 0.823538054657655, 'recall': 0.8598039215686275, 'f1-score': 0.837533718689788, 'support': 124.0}, 'weighted avg': {'precision': 0.8760249495227171, 'recall': 0.8629032258064516, 'f1-score': 0.8665274411088322, 'support': 124.0}} \n",
      "\n",
      "0.8548387096774194\n",
      "{1: {'precision': 0.9390243902439024, 'recall': 0.8555555555555555, 'f1-score': 0.8953488372093024, 'support': 90.0}, 0: {'precision': 0.6904761904761905, 'recall': 0.8529411764705882, 'f1-score': 0.7631578947368421, 'support': 34.0}, 'accuracy': 0.8548387096774194, 'macro avg': {'precision': 0.8147502903600464, 'recall': 0.8542483660130719, 'f1-score': 0.8292533659730723, 'support': 124.0}, 'weighted avg': {'precision': 0.8708740774043685, 'recall': 0.8548387096774194, 'f1-score': 0.8591029336281439, 'support': 124.0}} \n",
      "\n"
     ]
    }
   ],
   "source": [
    "from sklearn.tree import DecisionTreeClassifier\n",
    "from sklearn.neighbors import KNeighborsClassifier as KNN\n",
    "from sklearn.naive_bayes import GaussianNB\n",
    "from sklearn.linear_model import LogisticRegression\n",
    "from sklearn.svm import SVC\n",
    "from sklearn.metrics import classification_report\n",
    "\n",
    "model = DecisionTreeClassifier(max_depth=3)\n",
    "preds = []\n",
    "for model in [DecisionTreeClassifier(max_depth=3), KNN(n_neighbors=3), GaussianNB(), LogisticRegression(), SVC()]:\n",
    "\n",
    "    model.fit(X_train, y_train)\n",
    "    print(model.score(X_test, y_test))\n",
    "\n",
    "    pred = model.predict(X_test)\n",
    "    print(classification_report(y_test, pred, output_dict=True, target_names=[1,0]), \"\\n\")\n",
    "    preds.append(model.predict(X_test))"
   ]
  },
  {
   "cell_type": "code",
   "execution_count": 58,
   "metadata": {},
   "outputs": [
    {
     "name": "stdout",
     "output_type": "stream",
     "text": [
      "{1: {'precision': 0.9390243902439024, 'recall': 0.8555555555555555, 'f1-score': 0.8953488372093024, 'support': 90.0}, 0: {'precision': 0.6904761904761905, 'recall': 0.8529411764705882, 'f1-score': 0.7631578947368421, 'support': 34.0}, 'accuracy': 0.8548387096774194, 'macro avg': {'precision': 0.8147502903600464, 'recall': 0.8542483660130719, 'f1-score': 0.8292533659730723, 'support': 124.0}, 'weighted avg': {'precision': 0.8708740774043685, 'recall': 0.8548387096774194, 'f1-score': 0.8591029336281439, 'support': 124.0}} \n",
      "\n"
     ]
    }
   ],
   "source": [
    "whole = [0 for _ in range(len(y_test))]\n",
    "for i in preds:\n",
    "    whole += i\n",
    "whole = list(map(lambda x: 1 if x >= 3 else 0, whole))\n",
    "whole\n",
    "\n",
    "print(classification_report(y_test, whole, output_dict=True, target_names=[1,0]), \"\\n\")"
   ]
  }
 ],
 "metadata": {
  "kernelspec": {
   "display_name": "Python 3",
   "language": "python",
   "name": "python3"
  },
  "language_info": {
   "codemirror_mode": {
    "name": "ipython",
    "version": 3
   },
   "file_extension": ".py",
   "mimetype": "text/x-python",
   "name": "python",
   "nbconvert_exporter": "python",
   "pygments_lexer": "ipython3",
   "version": "3.12.4"
  }
 },
 "nbformat": 4,
 "nbformat_minor": 2
}
