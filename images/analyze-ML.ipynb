{
 "cells": [
  {
   "cell_type": "code",
   "execution_count": 41,
   "metadata": {},
   "outputs": [],
   "source": [
    "import pandas as pd\n",
    "import os as os \n",
    "import matplotlib.pyplot as plt"
   ]
  },
  {
   "cell_type": "code",
   "execution_count": 42,
   "metadata": {},
   "outputs": [
    {
     "name": "stdout",
     "output_type": "stream",
     "text": [
      "<class 'pandas.core.frame.DataFrame'>\n",
      "RangeIndex: 620 entries, 0 to 619\n",
      "Data columns (total 8 columns):\n",
      " #   Column  Non-Null Count  Dtype  \n",
      "---  ------  --------------  -----  \n",
      " 0   file    620 non-null    object \n",
      " 1   ssi     617 non-null    float64\n",
      " 2   hash    617 non-null    float64\n",
      " 3   cor     617 non-null    float64\n",
      " 4   chi     617 non-null    float64\n",
      " 5   inter   617 non-null    float64\n",
      " 6   bha     617 non-null    float64\n",
      " 7   TF      616 non-null    float64\n",
      "dtypes: float64(7), object(1)\n",
      "memory usage: 38.9+ KB\n",
      "None\n",
      "<class 'pandas.core.frame.DataFrame'>\n",
      "Index: 616 entries, 1 to 619\n",
      "Data columns (total 8 columns):\n",
      " #   Column  Non-Null Count  Dtype  \n",
      "---  ------  --------------  -----  \n",
      " 0   file    616 non-null    object \n",
      " 1   ssi     616 non-null    float64\n",
      " 2   hash    616 non-null    float64\n",
      " 3   cor     616 non-null    float64\n",
      " 4   chi     616 non-null    float64\n",
      " 5   inter   616 non-null    float64\n",
      " 6   bha     616 non-null    float64\n",
      " 7   TF      616 non-null    float64\n",
      "dtypes: float64(7), object(1)\n",
      "memory usage: 43.3+ KB\n",
      "None\n",
      "TF\n",
      "0.0    438\n",
      "1.0    178\n",
      "Name: count, dtype: int64\n"
     ]
    }
   ],
   "source": [
    "dir = os.getcwd()\n",
    "ori_df = pd.read_csv(f\"{dir}\\\\{input()}.csv\")\n",
    "print(ori_df.info())\n",
    "ori_df = ori_df.dropna()\n",
    "print(ori_df.info())\n",
    "df = ori_df[:]\n",
    "\n",
    "print(df['TF'].value_counts())"
   ]
  },
  {
   "cell_type": "code",
   "execution_count": 43,
   "metadata": {},
   "outputs": [
    {
     "name": "stdout",
     "output_type": "stream",
     "text": [
      "ssi\n",
      "6     119\n",
      "5     106\n",
      "4      96\n",
      "3      90\n",
      "2      85\n",
      "7      64\n",
      "1      38\n",
      "8       7\n",
      "0       6\n",
      "9       4\n",
      "10      1\n",
      "Name: count, dtype: int64\n",
      "    ssi        TF\n",
      "0     0  0.000000\n",
      "1     1  0.000000\n",
      "2     2  0.000000\n",
      "3     3  0.000000\n",
      "4     4  0.093750\n",
      "5     5  0.292453\n",
      "6     6  0.638655\n",
      "7     7  0.796875\n",
      "8     8  0.857143\n",
      "9     9  1.000000\n",
      "10   10  1.000000\n"
     ]
    },
    {
     "data": {
      "image/png": "[encoded data removed]",
      "text/plain": [
       "<Figure size 800x500 with 1 Axes>"
      ]
     },
     "metadata": {},
     "output_type": "display_data"
    }
   ],
   "source": [
    "column = \"ssi\"\n",
    "df[column] = ori_df[column].apply(lambda x: (round(x * 100) // 10))\n",
    "\n",
    "print(df[column].value_counts())\n",
    "df_modi = df.groupby(column)[\"TF\"].mean()\n",
    "\n",
    "df_modi = df_modi.reset_index()\n",
    "print(df_modi)\n",
    "\n",
    "plt.figure(figsize=(8, 5))\n",
    "plt.bar(df_modi[column], df_modi['TF'], color='skyblue')\n",
    "\n",
    "plt.show()"
   ]
  },
  {
   "cell_type": "code",
   "execution_count": 44,
   "metadata": {},
   "outputs": [
    {
     "name": "stdout",
     "output_type": "stream",
     "text": [
      "hash\n",
      "15    113\n",
      "16     99\n",
      "14     88\n",
      "17     58\n",
      "13     52\n",
      "12     51\n",
      "18     43\n",
      "11     28\n",
      "19     24\n",
      "10     23\n",
      "8      10\n",
      "20      8\n",
      "9       7\n",
      "0       4\n",
      "7       4\n",
      "6       2\n",
      "21      2\n",
      "Name: count, dtype: int64\n",
      "    hash        TF\n",
      "0      0  1.000000\n",
      "1      6  1.000000\n",
      "2      7  1.000000\n",
      "3      8  1.000000\n",
      "4      9  0.714286\n",
      "5     10  0.695652\n",
      "6     11  0.464286\n",
      "7     12  0.666667\n",
      "8     13  0.211538\n",
      "9     14  0.386364\n",
      "10    15  0.185841\n",
      "11    16  0.080808\n",
      "12    17  0.137931\n",
      "13    18  0.139535\n",
      "14    19  0.083333\n",
      "15    20  0.000000\n",
      "16    21  0.000000\n"
     ]
    },
    {
     "data": {
      "image/png": "[encoded data removed]",
      "text/plain": [
       "<Figure size 800x500 with 1 Axes>"
      ]
     },
     "metadata": {},
     "output_type": "display_data"
    }
   ],
   "source": [
    "column = \"hash\"\n",
    "df[column] = ori_df[column].apply(lambda x: round(x/2))\n",
    "\n",
    "print(df[column].value_counts())\n",
    "df_modi = df.groupby(column)[\"TF\"].mean()\n",
    "\n",
    "df_modi = df_modi.reset_index()\n",
    "print(df_modi)\n",
    "\n",
    "plt.figure(figsize=(8, 5))\n",
    "plt.bar(df_modi[column], df_modi['TF'], color='skyblue')\n",
    "\n",
    "plt.show()"
   ]
  },
  {
   "cell_type": "code",
   "execution_count": 45,
   "metadata": {},
   "outputs": [
    {
     "name": "stdout",
     "output_type": "stream",
     "text": [
      "cor\n",
      "10    226\n",
      "0     185\n",
      "1      54\n",
      "9      39\n",
      "2      23\n",
      "3      19\n",
      "4      19\n",
      "7      17\n",
      "6      12\n",
      "5      12\n",
      "8      10\n",
      "Name: count, dtype: int64\n",
      "    cor        TF\n",
      "0     0  0.005405\n",
      "1     1  0.000000\n",
      "2     2  0.000000\n",
      "3     3  0.000000\n",
      "4     4  0.000000\n",
      "5     5  0.000000\n",
      "6     6  0.000000\n",
      "7     7  0.058824\n",
      "8     8  0.000000\n",
      "9     9  0.153846\n",
      "10   10  0.752212\n"
     ]
    },
    {
     "data": {
      "image/png": "[encoded data removed]",
      "text/plain": [
       "<Figure size 800x500 with 1 Axes>"
      ]
     },
     "metadata": {},
     "output_type": "display_data"
    }
   ],
   "source": [
    "column = \"cor\"\n",
    "df[column] = ori_df[column].apply(lambda x: (round(x * 100) // 10))\n",
    "\n",
    "print(df[column].value_counts())\n",
    "df_modi = df.groupby(column)[\"TF\"].mean()\n",
    "\n",
    "df_modi = df_modi.reset_index()\n",
    "print(df_modi)\n",
    "\n",
    "plt.figure(figsize=(8, 5))\n",
    "plt.bar(df_modi[column], df_modi['TF'], color='skyblue')\n",
    "\n",
    "plt.show()\n",
    "\n",
    "#부정확하다고 보임 -> 컬럼 삭제"
   ]
  },
  {
   "cell_type": "code",
   "execution_count": 46,
   "metadata": {},
   "outputs": [
    {
     "name": "stdout",
     "output_type": "stream",
     "text": [
      "chi\n",
      "0.017117         9\n",
      "255281.988500    3\n",
      "4.580474         3\n",
      "2.526138         3\n",
      "173.829938       3\n",
      "                ..\n",
      "2.303457         1\n",
      "317326.295100    1\n",
      "94140.169510     1\n",
      "69522.650910     1\n",
      "152618.403100    1\n",
      "Name: count, Length: 455, dtype: int64\n",
      "              chi        TF\n",
      "0    0.000000e+00  1.000000\n",
      "1    1.711674e-02  0.444444\n",
      "2    1.891041e-02  0.000000\n",
      "3    2.885516e-02  0.000000\n",
      "4    2.902754e-02  1.000000\n",
      "..            ...       ...\n",
      "450  2.587294e+06  0.000000\n",
      "451  2.989065e+06  0.000000\n",
      "452  3.858309e+06  0.000000\n",
      "453  4.066515e+06  0.000000\n",
      "454  5.770496e+06  0.000000\n",
      "\n",
      "[455 rows x 2 columns]\n"
     ]
    },
    {
     "data": {
      "image/png": "[encoded data removed]",
      "text/plain": [
       "<Figure size 800x500 with 1 Axes>"
      ]
     },
     "metadata": {},
     "output_type": "display_data"
    }
   ],
   "source": [
    "column = \"chi\"\n",
    "df[column] = ori_df[column].apply(lambda x: x)\n",
    "\n",
    "print(df[column].value_counts())\n",
    "df_modi = df.groupby(column)[\"TF\"].mean()\n",
    "\n",
    "df_modi = df_modi.reset_index()\n",
    "print(df_modi)\n",
    "\n",
    "plt.figure(figsize=(8, 5))\n",
    "plt.bar(df_modi[column], df_modi['TF'], color='skyblue')\n",
    "\n",
    "plt.show()"
   ]
  },
  {
   "cell_type": "code",
   "execution_count": 47,
   "metadata": {},
   "outputs": [
    {
     "name": "stdout",
     "output_type": "stream",
     "text": [
      "inter\n",
      "10    329\n",
      "0     123\n",
      "1      47\n",
      "2      34\n",
      "3      22\n",
      "4      17\n",
      "6      16\n",
      "5      12\n",
      "8       6\n",
      "9       5\n",
      "7       5\n",
      "Name: count, dtype: int64\n",
      "    inter        TF\n",
      "0       0  0.008130\n",
      "1       1  0.000000\n",
      "2       2  0.000000\n",
      "3       3  0.000000\n",
      "4       4  0.000000\n",
      "5       5  0.000000\n",
      "6       6  0.000000\n",
      "7       7  0.000000\n",
      "8       8  0.000000\n",
      "9       9  0.000000\n",
      "10     10  0.537994\n"
     ]
    },
    {
     "data": {
      "image/png": "[encoded data removed]",
      "text/plain": [
       "<Figure size 800x500 with 1 Axes>"
      ]
     },
     "metadata": {},
     "output_type": "display_data"
    }
   ],
   "source": [
    "column = \"inter\"\n",
    "df[column] = ori_df[column].apply(lambda x: (round(x * 100) // 10))\n",
    "\n",
    "print(df[column].value_counts())\n",
    "df_modi = df.groupby(column)[\"TF\"].mean()\n",
    "\n",
    "df_modi = df_modi.reset_index()\n",
    "print(df_modi)\n",
    "\n",
    "plt.figure(figsize=(8, 5))\n",
    "plt.bar(df_modi[column], df_modi['TF'], color='skyblue')\n",
    "\n",
    "plt.show()"
   ]
  },
  {
   "cell_type": "code",
   "execution_count": 48,
   "metadata": {},
   "outputs": [
    {
     "name": "stdout",
     "output_type": "stream",
     "text": [
      "bha\n",
      "9     260\n",
      "8      75\n",
      "2      70\n",
      "3      61\n",
      "1      51\n",
      "4      26\n",
      "0      20\n",
      "5      20\n",
      "6      18\n",
      "7      13\n",
      "10      2\n",
      "Name: count, dtype: int64\n",
      "    bha        TF\n",
      "0     0  0.700000\n",
      "1     1  0.764706\n",
      "2     2  0.814286\n",
      "3     3  0.819672\n",
      "4     4  0.423077\n",
      "5     5  0.150000\n",
      "6     6  0.166667\n",
      "7     7  0.000000\n",
      "8     8  0.000000\n",
      "9     9  0.003846\n",
      "10   10  0.000000\n"
     ]
    },
    {
     "data": {
      "image/png": "[encoded data removed]",
      "text/plain": [
       "<Figure size 800x500 with 1 Axes>"
      ]
     },
     "metadata": {},
     "output_type": "display_data"
    }
   ],
   "source": [
    "column = \"bha\"\n",
    "df[column] = ori_df[column].apply(lambda x: (round(x * 100) // 10))\n",
    "\n",
    "print(df[column].value_counts())\n",
    "df_modi = df.groupby(column)[\"TF\"].mean()\n",
    "\n",
    "df_modi = df_modi.reset_index()\n",
    "print(df_modi)\n",
    "\n",
    "plt.figure(figsize=(8, 5))\n",
    "plt.bar(df_modi[column], df_modi['TF'], color='skyblue')\n",
    "\n",
    "plt.show()"
   ]
  },
  {
   "cell_type": "code",
   "execution_count": 49,
   "metadata": {},
   "outputs": [],
   "source": [
    "df_modi = df[:]\n",
    "df_modi = df_modi.drop([\"cor\", \"file\"], axis = 1)"
   ]
  },
  {
   "cell_type": "code",
   "execution_count": 50,
   "metadata": {},
   "outputs": [],
   "source": [
    "from sklearn.preprocessing import StandardScaler\n",
    "from sklearn.model_selection import train_test_split"
   ]
  },
  {
   "cell_type": "code",
   "execution_count": 51,
   "metadata": {},
   "outputs": [],
   "source": [
    "y = df_modi[\"TF\"]\n",
    "X = df_modi.drop(\"TF\", axis = 1)\n",
    "scaler = StandardScaler()\n",
    "scaler.fit(X)\n",
    "X = scaler.transform(X)\n",
    "X = pd.DataFrame(data=X, columns = [\"ssi\", \"hash\", \"chi\", \"inter\", \"bha\"])"
   ]
  },
  {
   "cell_type": "code",
   "execution_count": 52,
   "metadata": {},
   "outputs": [],
   "source": [
    "X_train, X_test, y_train, y_test = train_test_split(X, y, test_size= 0.2, random_state= 123)"
   ]
  },
  {
   "cell_type": "code",
   "execution_count": 56,
   "metadata": {},
   "outputs": [
    {
     "ename": "SyntaxError",
     "evalue": "positional argument follows keyword argument (118077770.py, line 16)",
     "output_type": "error",
     "traceback": [
      "\u001b[1;36m  Cell \u001b[1;32mIn[56], line 16\u001b[1;36m\u001b[0m\n\u001b[1;33m    print(classification_report(y_test, pred, output_dict=True, target_names=[1,0], \"\\n\"))\u001b[0m\n\u001b[1;37m                                                                                        ^\u001b[0m\n\u001b[1;31mSyntaxError\u001b[0m\u001b[1;31m:\u001b[0m positional argument follows keyword argument\n"
     ]
    }
   ],
   "source": [
    "from sklearn.tree import DecisionTreeClassifier\n",
    "from sklearn.neighbors import KNeighborsClassifier as KNN\n",
    "from sklearn.naive_bayes import GaussianNB\n",
    "from sklearn.linear_model import LogisticRegression\n",
    "from sklearn.svm import SVC\n",
    "from sklearn.metrics import classification_report\n",
    "\n",
    "model = DecisionTreeClassifier(max_depth=3)\n",
    "preds = []\n",
    "for model in [DecisionTreeClassifier(max_depth=3), KNN(n_neighbors=3), GaussianNB(), LogisticRegression(), SVC()]:\n",
    "\n",
    "    model.fit(X_train, y_train)\n",
    "    print(model.score(X_test, y_test))\n",
    "\n",
    "    pred = model.predict(X_test)\n",
    "    print(classification_report(y_test, pred, output_dict=True, target_names=[1,0]), \"\\n\")\n",
    "    preds.append(model.predict(X_test))"
   ]
  },
  {
   "cell_type": "code",
   "execution_count": 54,
   "metadata": {},
   "outputs": [
    {
     "name": "stdout",
     "output_type": "stream",
     "text": [
      "0.8548387096774194\n"
     ]
    }
   ],
   "source": [
    "whole = [0 for _ in range(len(y_test))]\n",
    "for i in preds:\n",
    "    whole += i\n",
    "whole = list(map(lambda x: 1 if x >= 3 else 0, whole))\n",
    "whole\n",
    "\n",
    "accuracy = 0\n",
    "for i in range(len(y_test)):\n",
    "    if y_test.iloc[i] == whole[i]:\n",
    "        accuracy += 1\n",
    "accuracy = accuracy / len(y_test)\n",
    "print(accuracy)"
   ]
  }
 ],
 "metadata": {
  "kernelspec": {
   "display_name": "Python 3",
   "language": "python",
   "name": "python3"
  },
  "language_info": {
   "codemirror_mode": {
    "name": "ipython",
    "version": 3
   },
   "file_extension": ".py",
   "mimetype": "text/x-python",
   "name": "python",
   "nbconvert_exporter": "python",
   "pygments_lexer": "ipython3",
   "version": "3.12.4"
  }
 },
 "nbformat": 4,
 "nbformat_minor": 2
}
