{
 "cells": [
  {
   "cell_type": "code",
   "execution_count": 4,
   "metadata": {},
   "outputs": [],
   "source": [
    "import pandas as pd\n",
    "import os as os \n",
    "import matplotlib.pyplot as plt"
   ]
  },
  {
   "cell_type": "code",
   "execution_count": 5,
   "metadata": {},
   "outputs": [
    {
     "name": "stdout",
     "output_type": "stream",
     "text": [
      "<class 'pandas.core.frame.DataFrame'>\n",
      "RangeIndex: 218 entries, 0 to 217\n",
      "Data columns (total 8 columns):\n",
      " #   Column  Non-Null Count  Dtype  \n",
      "---  ------  --------------  -----  \n",
      " 0   file    218 non-null    object \n",
      " 1   ssi     217 non-null    float64\n",
      " 2   hash    217 non-null    float64\n",
      " 3   cor     217 non-null    float64\n",
      " 4   chi     217 non-null    float64\n",
      " 5   inter   217 non-null    float64\n",
      " 6   bha     217 non-null    float64\n",
      " 7   TF      216 non-null    float64\n",
      "dtypes: float64(7), object(1)\n",
      "memory usage: 13.8+ KB\n",
      "None\n",
      "<class 'pandas.core.frame.DataFrame'>\n",
      "Index: 216 entries, 1 to 217\n",
      "Data columns (total 8 columns):\n",
      " #   Column  Non-Null Count  Dtype  \n",
      "---  ------  --------------  -----  \n",
      " 0   file    216 non-null    object \n",
      " 1   ssi     216 non-null    float64\n",
      " 2   hash    216 non-null    float64\n",
      " 3   cor     216 non-null    float64\n",
      " 4   chi     216 non-null    float64\n",
      " 5   inter   216 non-null    float64\n",
      " 6   bha     216 non-null    float64\n",
      " 7   TF      216 non-null    float64\n",
      "dtypes: float64(7), object(1)\n",
      "memory usage: 15.2+ KB\n",
      "None\n",
      "TF\n",
      "0.0    112\n",
      "1.0    104\n",
      "Name: count, dtype: int64\n"
     ]
    }
   ],
   "source": [
    "dir = os.getcwd() + \"\\\\images_csv\"\n",
    "ori_df = pd.read_csv(f\"{dir}\\\\{input()}.csv\")\n",
    "print(ori_df.info())\n",
    "ori_df = ori_df.dropna()\n",
    "print(ori_df.info())\n",
    "df = ori_df[:]\n",
    "\n",
    "print(df['TF'].value_counts())"
   ]
  },
  {
   "cell_type": "code",
   "execution_count": 6,
   "metadata": {},
   "outputs": [
    {
     "name": "stdout",
     "output_type": "stream",
     "text": [
      "ssi\n",
      "3    115\n",
      "2     48\n",
      "4     34\n",
      "1     11\n",
      "8      5\n",
      "7      2\n",
      "5      1\n",
      "Name: count, dtype: int64\n",
      "   ssi        TF\n",
      "0    1  0.090909\n",
      "1    2  0.187500\n",
      "2    3  0.573913\n",
      "3    4  0.617647\n",
      "4    5  0.000000\n",
      "5    7  1.000000\n",
      "6    8  1.000000\n"
     ]
    },
    {
     "data": {
      "image/png": "[encoded data removed]",
      "text/plain": [
       "<Figure size 800x500 with 1 Axes>"
      ]
     },
     "metadata": {},
     "output_type": "display_data"
    }
   ],
   "source": [
    "column = \"ssi\"\n",
    "df[column] = ori_df[column].apply(lambda x: (round(x * 100) // 10))\n",
    "\n",
    "print(df[column].value_counts())\n",
    "df_modi = df.groupby(column)[\"TF\"].mean()\n",
    "\n",
    "df_modi = df_modi.reset_index()\n",
    "print(df_modi)\n",
    "\n",
    "plt.figure(figsize=(8, 5))\n",
    "plt.bar(df_modi[column], df_modi['TF'], color='skyblue')\n",
    "\n",
    "plt.show()"
   ]
  },
  {
   "cell_type": "code",
   "execution_count": 7,
   "metadata": {},
   "outputs": [
    {
     "name": "stdout",
     "output_type": "stream",
     "text": [
      "hash\n",
      "15    42\n",
      "16    37\n",
      "13    30\n",
      "17    27\n",
      "14    23\n",
      "18    13\n",
      "12    12\n",
      "19     8\n",
      "11     7\n",
      "20     3\n",
      "3      3\n",
      "10     3\n",
      "6      3\n",
      "21     2\n",
      "7      1\n",
      "0      1\n",
      "9      1\n",
      "Name: count, dtype: int64\n",
      "    hash        TF\n",
      "0      0  1.000000\n",
      "1      3  1.000000\n",
      "2      6  1.000000\n",
      "3      7  1.000000\n",
      "4      9  0.000000\n",
      "5     10  1.000000\n",
      "6     11  0.714286\n",
      "7     12  0.500000\n",
      "8     13  0.533333\n",
      "9     14  0.521739\n",
      "10    15  0.452381\n",
      "11    16  0.621622\n",
      "12    17  0.407407\n",
      "13    18  0.076923\n",
      "14    19  0.000000\n",
      "15    20  0.000000\n",
      "16    21  0.000000\n"
     ]
    },
    {
     "data": {
      "image/png": "[encoded data removed]",
      "text/plain": [
       "<Figure size 800x500 with 1 Axes>"
      ]
     },
     "metadata": {},
     "output_type": "display_data"
    }
   ],
   "source": [
    "column = \"hash\"\n",
    "df[column] = ori_df[column].apply(lambda x: round(x/2))\n",
    "\n",
    "print(df[column].value_counts())\n",
    "df_modi = df.groupby(column)[\"TF\"].mean()\n",
    "\n",
    "df_modi = df_modi.reset_index()\n",
    "print(df_modi)\n",
    "\n",
    "plt.figure(figsize=(8, 5))\n",
    "plt.bar(df_modi[column], df_modi['TF'], color='skyblue')\n",
    "\n",
    "plt.show()"
   ]
  },
  {
   "cell_type": "code",
   "execution_count": 8,
   "metadata": {},
   "outputs": [
    {
     "name": "stdout",
     "output_type": "stream",
     "text": [
      "cor\n",
      " 8    87\n",
      " 9    41\n",
      " 7    18\n",
      " 0    16\n",
      " 3    12\n",
      " 4    11\n",
      " 6    10\n",
      " 1     8\n",
      " 5     6\n",
      " 2     4\n",
      "-1     3\n",
      "Name: count, dtype: int64\n",
      "    cor        TF\n",
      "0    -1  0.000000\n",
      "1     0  0.000000\n",
      "2     1  0.000000\n",
      "3     2  0.000000\n",
      "4     3  0.166667\n",
      "5     4  0.363636\n",
      "6     5  0.333333\n",
      "7     6  0.600000\n",
      "8     7  0.500000\n",
      "9     8  0.482759\n",
      "10    9  0.951220\n"
     ]
    },
    {
     "data": {
      "image/png": "[encoded data removed]",
      "text/plain": [
       "<Figure size 800x500 with 1 Axes>"
      ]
     },
     "metadata": {},
     "output_type": "display_data"
    }
   ],
   "source": [
    "column = \"cor\"\n",
    "df[column] = ori_df[column].apply(lambda x: (round(x * 100) // 10))\n",
    "\n",
    "print(df[column].value_counts())\n",
    "df_modi = df.groupby(column)[\"TF\"].mean()\n",
    "\n",
    "df_modi = df_modi.reset_index()\n",
    "print(df_modi)\n",
    "\n",
    "plt.figure(figsize=(8, 5))\n",
    "plt.bar(df_modi[column], df_modi['TF'], color='skyblue')\n",
    "\n",
    "plt.show()\n",
    "\n",
    "#부정확하다고 보임 -> 컬럼 삭제"
   ]
  },
  {
   "cell_type": "code",
   "execution_count": 9,
   "metadata": {},
   "outputs": [
    {
     "name": "stdout",
     "output_type": "stream",
     "text": [
      "chi\n",
      "10.444366      5\n",
      "173.170459     2\n",
      "23.799966      2\n",
      "82.115500      2\n",
      "848.443946     2\n",
      "              ..\n",
      "1152.534217    1\n",
      "789.445024     1\n",
      "578.321551     1\n",
      "187.523752     1\n",
      "12.082420      1\n",
      "Name: count, Length: 201, dtype: int64\n",
      "               chi   TF\n",
      "0         5.467737  1.0\n",
      "1         7.922289  1.0\n",
      "2         9.177386  1.0\n",
      "3         9.531159  0.0\n",
      "4         9.647523  1.0\n",
      "..             ...  ...\n",
      "196   42883.151030  0.0\n",
      "197   44731.824940  0.0\n",
      "198   59402.453410  1.0\n",
      "199   59532.706460  0.0\n",
      "200  134846.228800  0.0\n",
      "\n",
      "[201 rows x 2 columns]\n"
     ]
    },
    {
     "data": {
      "image/png": "[encoded data removed]",
      "text/plain": [
       "<Figure size 800x500 with 1 Axes>"
      ]
     },
     "metadata": {},
     "output_type": "display_data"
    }
   ],
   "source": [
    "column = \"chi\"\n",
    "df[column] = ori_df[column].apply(lambda x: x)\n",
    "\n",
    "print(df[column].value_counts())\n",
    "df_modi = df.groupby(column)[\"TF\"].mean()\n",
    "\n",
    "df_modi = df_modi.reset_index()\n",
    "print(df_modi)\n",
    "\n",
    "plt.figure(figsize=(8, 5))\n",
    "plt.bar(df_modi[column], df_modi['TF'], color='skyblue')\n",
    "\n",
    "plt.show()"
   ]
  },
  {
   "cell_type": "code",
   "execution_count": 10,
   "metadata": {},
   "outputs": [
    {
     "name": "stdout",
     "output_type": "stream",
     "text": [
      "inter\n",
      "10     17\n",
      "12      6\n",
      "13      5\n",
      "74      5\n",
      "61      5\n",
      "       ..\n",
      "96      1\n",
      "108     1\n",
      "73      1\n",
      "82      1\n",
      "5       1\n",
      "Name: count, Length: 90, dtype: int64\n",
      "    inter   TF\n",
      "0       0  0.0\n",
      "1       1  0.0\n",
      "2       2  0.0\n",
      "3       3  0.0\n",
      "4       4  0.0\n",
      "..    ...  ...\n",
      "85    109  1.0\n",
      "86    110  1.0\n",
      "87    111  1.0\n",
      "88    113  1.0\n",
      "89    114  1.0\n",
      "\n",
      "[90 rows x 2 columns]\n"
     ]
    },
    {
     "data": {
      "image/png": "[encoded data removed]",
      "text/plain": [
       "<Figure size 800x500 with 1 Axes>"
      ]
     },
     "metadata": {},
     "output_type": "display_data"
    }
   ],
   "source": [
    "column = \"inter\"\n",
    "df[column] = ori_df[column].apply(lambda x: (round(x * 100) // 10))\n",
    "\n",
    "print(df[column].value_counts())\n",
    "df_modi = df.groupby(column)[\"TF\"].mean()\n",
    "\n",
    "df_modi = df_modi.reset_index()\n",
    "print(df_modi)\n",
    "\n",
    "plt.figure(figsize=(8, 5))\n",
    "plt.bar(df_modi[column], df_modi['TF'], color='skyblue')\n",
    "\n",
    "plt.show()"
   ]
  },
  {
   "cell_type": "code",
   "execution_count": 11,
   "metadata": {},
   "outputs": [
    {
     "name": "stdout",
     "output_type": "stream",
     "text": [
      "bha\n",
      "4    40\n",
      "8    35\n",
      "5    33\n",
      "6    27\n",
      "3    27\n",
      "7    26\n",
      "2    18\n",
      "9     8\n",
      "1     2\n",
      "Name: count, dtype: int64\n",
      "   bha        TF\n",
      "0    1  1.000000\n",
      "1    2  1.000000\n",
      "2    3  0.962963\n",
      "3    4  0.950000\n",
      "4    5  0.272727\n",
      "5    6  0.185185\n",
      "6    7  0.115385\n",
      "7    8  0.085714\n",
      "8    9  0.000000\n"
     ]
    },
    {
     "data": {
      "image/png": "[encoded data removed]",
      "text/plain": [
       "<Figure size 800x500 with 1 Axes>"
      ]
     },
     "metadata": {},
     "output_type": "display_data"
    }
   ],
   "source": [
    "column = \"bha\"\n",
    "df[column] = ori_df[column].apply(lambda x: (round(x * 100) // 10))\n",
    "\n",
    "print(df[column].value_counts())\n",
    "df_modi = df.groupby(column)[\"TF\"].mean()\n",
    "\n",
    "df_modi = df_modi.reset_index()\n",
    "print(df_modi)\n",
    "\n",
    "plt.figure(figsize=(8, 5))\n",
    "plt.bar(df_modi[column], df_modi['TF'], color='skyblue')\n",
    "\n",
    "plt.show()"
   ]
  },
  {
   "cell_type": "code",
   "execution_count": 12,
   "metadata": {},
   "outputs": [],
   "source": [
    "df_modi = df[:]\n",
    "df_modi = df_modi.drop([\"cor\", \"file\"], axis = 1)"
   ]
  },
  {
   "cell_type": "code",
   "execution_count": 13,
   "metadata": {},
   "outputs": [],
   "source": [
    "from sklearn.preprocessing import StandardScaler\n",
    "from sklearn.model_selection import train_test_split"
   ]
  },
  {
   "cell_type": "code",
   "execution_count": 14,
   "metadata": {},
   "outputs": [],
   "source": [
    "y = df_modi[\"TF\"]\n",
    "X = df_modi.drop(\"TF\", axis = 1)\n",
    "scaler = StandardScaler()\n",
    "scaler.fit(X)\n",
    "X = scaler.transform(X)\n",
    "X = pd.DataFrame(data=X, columns = [\"ssi\", \"hash\", \"chi\", \"inter\", \"bha\"])"
   ]
  },
  {
   "cell_type": "code",
   "execution_count": 15,
   "metadata": {},
   "outputs": [],
   "source": [
    "X_train, X_test, y_train, y_test = train_test_split(X, y, test_size= 0.2, random_state= 123)"
   ]
  },
  {
   "cell_type": "code",
   "execution_count": 16,
   "metadata": {},
   "outputs": [
    {
     "name": "stdout",
     "output_type": "stream",
     "text": [
      "0.9090909090909091\n",
      "{1: {'precision': 0.8846153846153846, 'recall': 0.9583333333333334, 'f1-score': 0.92, 'support': 24.0}, 0: {'precision': 0.9444444444444444, 'recall': 0.85, 'f1-score': 0.8947368421052632, 'support': 20.0}, 'accuracy': 0.9090909090909091, 'macro avg': {'precision': 0.9145299145299145, 'recall': 0.9041666666666667, 'f1-score': 0.9073684210526316, 'support': 44.0}, 'weighted avg': {'precision': 0.9118104118104118, 'recall': 0.9090909090909091, 'f1-score': 0.9085167464114833, 'support': 44.0}} \n",
      "\n",
      "0.8636363636363636\n",
      "{1: {'precision': 0.875, 'recall': 0.875, 'f1-score': 0.875, 'support': 24.0}, 0: {'precision': 0.85, 'recall': 0.85, 'f1-score': 0.85, 'support': 20.0}, 'accuracy': 0.8636363636363636, 'macro avg': {'precision': 0.8625, 'recall': 0.8625, 'f1-score': 0.8625, 'support': 44.0}, 'weighted avg': {'precision': 0.8636363636363636, 'recall': 0.8636363636363636, 'f1-score': 0.8636363636363636, 'support': 44.0}} \n",
      "\n",
      "0.8636363636363636\n",
      "{1: {'precision': 0.875, 'recall': 0.875, 'f1-score': 0.875, 'support': 24.0}, 0: {'precision': 0.85, 'recall': 0.85, 'f1-score': 0.85, 'support': 20.0}, 'accuracy': 0.8636363636363636, 'macro avg': {'precision': 0.8625, 'recall': 0.8625, 'f1-score': 0.8625, 'support': 44.0}, 'weighted avg': {'precision': 0.8636363636363636, 'recall': 0.8636363636363636, 'f1-score': 0.8636363636363636, 'support': 44.0}} \n",
      "\n",
      "0.8636363636363636\n",
      "{1: {'precision': 0.875, 'recall': 0.875, 'f1-score': 0.875, 'support': 24.0}, 0: {'precision': 0.85, 'recall': 0.85, 'f1-score': 0.85, 'support': 20.0}, 'accuracy': 0.8636363636363636, 'macro avg': {'precision': 0.8625, 'recall': 0.8625, 'f1-score': 0.8625, 'support': 44.0}, 'weighted avg': {'precision': 0.8636363636363636, 'recall': 0.8636363636363636, 'f1-score': 0.8636363636363636, 'support': 44.0}} \n",
      "\n",
      "0.8863636363636364\n",
      "{1: {'precision': 0.8518518518518519, 'recall': 0.9583333333333334, 'f1-score': 0.9019607843137255, 'support': 24.0}, 0: {'precision': 0.9411764705882353, 'recall': 0.8, 'f1-score': 0.8648648648648649, 'support': 20.0}, 'accuracy': 0.8863636363636364, 'macro avg': {'precision': 0.8965141612200436, 'recall': 0.8791666666666667, 'f1-score': 0.8834128245892952, 'support': 44.0}, 'weighted avg': {'precision': 0.8924539512774807, 'recall': 0.8863636363636364, 'f1-score': 0.8850990027460616, 'support': 44.0}} \n",
      "\n"
     ]
    }
   ],
   "source": [
    "from sklearn.tree import DecisionTreeClassifier\n",
    "from sklearn.neighbors import KNeighborsClassifier as KNN\n",
    "from sklearn.naive_bayes import GaussianNB\n",
    "from sklearn.linear_model import LogisticRegression\n",
    "from sklearn.svm import SVC\n",
    "from sklearn.metrics import classification_report\n",
    "\n",
    "model = DecisionTreeClassifier(max_depth=3)\n",
    "preds = []\n",
    "for model in [DecisionTreeClassifier(max_depth=3), KNN(n_neighbors=3), GaussianNB(), LogisticRegression(), SVC()]:\n",
    "\n",
    "    model.fit(X_train, y_train)\n",
    "    print(model.score(X_test, y_test))\n",
    "\n",
    "    pred = model.predict(X_test)\n",
    "    print(classification_report(y_test, pred, output_dict=True, target_names=[1,0]), \"\\n\")\n",
    "    preds.append(model.predict(X_test))"
   ]
  },
  {
   "cell_type": "code",
   "execution_count": 17,
   "metadata": {},
   "outputs": [
    {
     "name": "stdout",
     "output_type": "stream",
     "text": [
      "{1: {'precision': 0.8518518518518519, 'recall': 0.9583333333333334, 'f1-score': 0.9019607843137255, 'support': 24.0}, 0: {'precision': 0.9411764705882353, 'recall': 0.8, 'f1-score': 0.8648648648648649, 'support': 20.0}, 'accuracy': 0.8863636363636364, 'macro avg': {'precision': 0.8965141612200436, 'recall': 0.8791666666666667, 'f1-score': 0.8834128245892952, 'support': 44.0}, 'weighted avg': {'precision': 0.8924539512774807, 'recall': 0.8863636363636364, 'f1-score': 0.8850990027460616, 'support': 44.0}} \n",
      "\n"
     ]
    }
   ],
   "source": [
    "whole = [0 for _ in range(len(y_test))]\n",
    "for i in preds:\n",
    "    whole += i\n",
    "whole = list(map(lambda x: 1 if x >= 3 else 0, whole))\n",
    "whole\n",
    "\n",
    "print(classification_report(y_test, whole, output_dict=True, target_names=[1,0]), \"\\n\")"
   ]
  }
 ],
 "metadata": {
  "kernelspec": {
   "display_name": "Python 3",
   "language": "python",
   "name": "python3"
  },
  "language_info": {
   "codemirror_mode": {
    "name": "ipython",
    "version": 3
   },
   "file_extension": ".py",
   "mimetype": "text/x-python",
   "name": "python",
   "nbconvert_exporter": "python",
   "pygments_lexer": "ipython3",
   "version": "3.12.4"
  }
 },
 "nbformat": 4,
 "nbformat_minor": 2
}
